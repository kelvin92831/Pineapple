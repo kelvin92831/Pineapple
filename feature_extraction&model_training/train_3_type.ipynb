{
 "cells": [
  {
   "cell_type": "markdown",
   "metadata": {
    "id": "AwxgdZjSfg_m"
   },
   "source": [
    "## Prepare module and drive\n",
    "This training script will train model that have 3 types"
   ]
  },
  {
   "cell_type": "code",
   "execution_count": 1,
   "metadata": {
    "colab": {
     "base_uri": "https://localhost:8080/"
    },
    "executionInfo": {
     "elapsed": 23298,
     "status": "ok",
     "timestamp": 1713702621161,
     "user": {
      "displayName": "林奕安",
      "userId": "06087888647373566805"
     },
     "user_tz": -480
    },
    "id": "7cMOKRd7TkGk",
    "outputId": "3b5aa6ce-7536-41e6-b8ed-2a1ac37de68d"
   },
   "outputs": [],
   "source": [
    "import wandb\n",
    "from wandb.keras import WandbCallback\n",
    "import os\n",
    "import warnings\n",
    "\n",
    "import numpy as np\n",
    "from matplotlib import pyplot as plt\n",
    "import random\n",
    "\n",
    "import librosa\n",
    "import librosa.display\n",
    "import aubio\n",
    "import soundfile as sf\n",
    "from soundfile import write\n",
    "from numpy import vstack, zeros, diff\n",
    "\n",
    "from sklearn.model_selection import StratifiedKFold , KFold ,RepeatedKFold\n",
    "from sklearn.model_selection import train_test_split\n",
    "from sklearn.preprocessing import LabelEncoder\n",
    "from sklearn.metrics import confusion_matrix, precision_score, recall_score, f1_score\n",
    "from tensorflow.keras.layers import SimpleRNN, Flatten, Dense, Dropout, BatchNormalization, GlobalAveragePooling2D, Conv2D, MaxPooling2D\n",
    "\n",
    "import tensorflow as tf\n",
    "from tensorflow import keras\n",
    "from tensorflow.keras import layers\n",
    "from tensorflow.keras.models import Sequential\n",
    "from tensorflow.keras.layers import SimpleRNN, Dense, Dropout\n",
    "from tensorflow.keras.utils import to_categorical\n",
    "\n",
    "warnings.filterwarnings('ignore')"
   ]
  },
  {
   "cell_type": "markdown",
   "metadata": {
    "id": "rKsMDywYeEza"
   },
   "source": [
    "## Functions"
   ]
  },
  {
   "cell_type": "markdown",
   "metadata": {
    "id": "506xGRnRdsF_"
   },
   "source": [
    "- dataloader"
   ]
  },
  {
   "cell_type": "code",
   "execution_count": 2,
   "metadata": {},
   "outputs": [],
   "source": [
    "#time mask method\n",
    "TMASK_MIN = 0\n",
    "TMASK_MAX = 0.07\n",
    "TLEN_MIN = 0.005\n",
    "TLEN_MAX = 0.02\n",
    "\n",
    "#frequency mask method\n",
    "FMASK_MIN = 150\n",
    "FMASK_MAX = 400\n",
    "FLEN_MIN = 20\n",
    "FLEN_MAX = 50\n",
    "\n",
    "\n",
    "AUGMENTATION = 1 #for t_mask f_mask 決定mask數量\n",
    "SR = 22050 #採樣率\n",
    "N_FFT = 128 #Number of FFT Points A smaller N_FFT provides finer time resolution but coarser frequency resolution.\n",
    "HOP_LENGTH = N_FFT / 4\n",
    "# freq = librosa.fft_frequencies(sr=SR, n_fft=2048)\n",
    "# print(freq)\n",
    "# print(len(freq))\n",
    "# print(freq[23])"
   ]
  },
  {
   "cell_type": "code",
   "execution_count": 72,
   "metadata": {},
   "outputs": [],
   "source": [
    "# def dataloader(path, file, shift=False, noise=False, t_mask=False, f_mask=False, STFT_noise = False):\n",
    "#     original_audio, sr = librosa.load(path + file)\n",
    "#     audio_list = [original_audio]\n",
    "    \n",
    "#     #time shift\n",
    "#     if shift:\n",
    "#         audio_list.append(np.roll(original_audio, random.randint(1,1000)))\n",
    "#         audio_list.append(np.roll(original_audio, random.randint(1001,2000)))\n",
    "#         # audio_list.append(np.roll(original_audio, random.randint(-500,-1)))\n",
    "    \n",
    "#     #adding noise\n",
    "#     if noise:\n",
    "#         for i in range(len(audio_list)):\n",
    "#             signal = audio_list[i]\n",
    "#             SNR = random.uniform(15, 25)\n",
    "#             # print(SNR)\n",
    "#             Ps = np.sum(np.power(signal, 2)) / len(signal) #信號功率計算\n",
    "#             Pn = Ps / (np.power(10, SNR / 10)) #噪音功率計算\n",
    "#             noise_factor = np.sqrt(Pn)\n",
    "#             white_noise = np.random.randn(len(signal)) * noise_factor\n",
    "#             audio = signal + white_noise\n",
    "#             audio_list.append(audio)\n",
    "            \n",
    "    \n",
    "#     data_list = []\n",
    "#     for audio in audio_list:\n",
    "        \n",
    "#         #normalization\n",
    "#         normalize_data = audio / np.max(np.abs(audio), axis=0)\n",
    "#         stfts = []\n",
    "        \n",
    "#         #stft\n",
    "#         origin_stft = librosa.stft(y=normalize_data, n_fft=N_FFT)\n",
    "#         stfts.append(origin_stft)\n",
    "        \n",
    "#         #time mask\n",
    "#         if t_mask:\n",
    "#             start_point = np.random.uniform(TMASK_MIN, TMASK_MAX, AUGMENTATION)\n",
    "#             mask_len = np.random.uniform(TLEN_MIN, TLEN_MAX, AUGMENTATION)\n",
    "#             # print(start_point, mask_len)\n",
    "#             for i in range(AUGMENTATION):  \n",
    "#                 t_mask_stft = origin_stft.copy()\n",
    "#                 t_mask_stft[:, int(start_point[i] * SR / HOP_LENGTH):int((start_point[i] + mask_len[i]) * SR / HOP_LENGTH)] = 0\n",
    "#                 stfts.append(t_mask_stft)\n",
    "        \n",
    "#         #frequency mask\n",
    "#         if f_mask:\n",
    "#             start_point = np.random.uniform(FMASK_MIN, FMASK_MAX, AUGMENTATION)\n",
    "#             mask_len = np.random.uniform(FLEN_MIN, FLEN_MAX, AUGMENTATION)\n",
    "#             print(start_point, mask_len)\n",
    "#             for i in range(AUGMENTATION):\n",
    "#                 f_mask_stft = origin_stft.copy()\n",
    "#                 # findex = np.argwhere((freq > start_point[i]) & (freq < start_point[i] + mask_len[i]))\n",
    "#                 findex = np.argwhere((freq > start_point[0]) & (freq < start_point[0] + mask_len[0]))\n",
    "#                 print(findex)\n",
    "#                 f_mask_stft[findex[0][0]:findex[len(findex)-1][0], :] = 0\n",
    "#                 print(f_mask_stft.shape)\n",
    "#                 stfts.append(f_mask_stft)\n",
    "                \n",
    "#         for stft in stfts: \n",
    "#             stft = librosa.amplitude_to_db(np.abs(stft),ref=np.max) #轉分貝\n",
    "#             # fig, ax = plt.subplots(nrows=1, ncols=1, sharex=True)\n",
    "#             # img1 = librosa.display.specshow(stft, hop_length=64, x_axis='time', y_axis='log', ax=ax)\n",
    "#             # ax.set(title='STFT (log scale)')\n",
    "#             stft = stft[:, :, np.newaxis] #二維到三維拓展\n",
    "#             stft /= np.max(np.abs(stft)) #歸一化\n",
    "#             data_list.append(np.concatenate((stft, stft, stft), axis=2)) #模擬三通道圖像數據：才能適用模型訓練\n",
    "#     return data_list"
   ]
  },
  {
   "cell_type": "code",
   "execution_count": 5,
   "metadata": {
    "id": "-pGSqgtsT1kd"
   },
   "outputs": [],
   "source": [
    "N_FFT = 128\n",
    "HOP_LENGTH = 32\n",
    "# image generation method for testing\n",
    "# \"melspectrogram\", \"raw\", \"mfcc_aubio\", \"mfcc_librosa\", \"stft\"\n",
    "image_gen_method = \"mfcc_librosa\"\n",
    "audio_norm = False\n",
    "\n",
    "def mySTFT(y, n_fft: int = 1024, hop_length = 128):\n",
    "    z = np.copy(y)\n",
    "    z = np.pad(z, (n_fft // 2, n_fft // 2), 'constant', constant_values=(0, 0))\n",
    "    result_w = n_fft // 2 + 1\n",
    "    result_h = len(y) // hop_length + 1\n",
    "    result = np.zeros(shape=(result_h, result_w))\n",
    "    hann = np.hanning(n_fft)\n",
    "    for i in range(result_h):\n",
    "        tmp = np.fft.rfft(z[i * hop_length: i * hop_length + n_fft] * hann)\n",
    "        # print(len(tmp))\n",
    "        for j in range(result_w):\n",
    "            result[i][j] = abs(tmp[j])\n",
    "    return result\n",
    "            \n",
    "def randomSTFT(y):\n",
    "    result = np.zeros(shape=(len(y), len(y[0])))\n",
    "    for i in range(len(y)):\n",
    "        for j in range(len(y[0])):\n",
    "            result[i][j] = random.random() * 0.2 + y[i][j]\n",
    "    return result\n",
    "    \n",
    "# mask 先不用\n",
    "def dataloader(path, file, shift=False, noise=False, t_mask=False, f_mask=False, STFT_noise=False):\n",
    "    # 讀取原始音訊數據\n",
    "    original_audio, sr = librosa.load(path + file)\n",
    "    audio_list = [original_audio]\n",
    "\n",
    "    # 隨機平移數據擴增 p36\n",
    "    if shift:\n",
    "        audio_list.append(np.roll(original_audio, random.randint(1,1000)))\n",
    "        audio_list.append(np.roll(original_audio, random.randint(1001,2000)))\n",
    "        # audio_list.append(np.roll(original_audio, random.randint(-500,-1)))\n",
    "\n",
    "    # 噪音數據擴增 p37\n",
    "    if noise:\n",
    "        for i in range(len(audio_list)):\n",
    "            signal = audio_list[i]\n",
    "            SNR = random.uniform(15, 25)\n",
    "            # print(SNR)\n",
    "            Ps = np.sum(np.power(signal, 2)) / len(signal)\n",
    "            Pn = Ps / (np.power(10, SNR / 10))\n",
    "            noise_factor = np.sqrt(Pn)\n",
    "            white_noise = np.random.randn(len(signal)) * noise_factor\n",
    "            audio = signal + white_noise\n",
    "            audio_list.append(audio)\n",
    "\n",
    "    features = []\n",
    "    # 遍歷每個音頻文件\n",
    "    for audio in audio_list:\n",
    "        # 提取MFCC特徵\n",
    "        if audio_norm == True:\n",
    "            audio = audio / np.max(np.abs(audio), axis=0)\n",
    "        if image_gen_method == \"melspectrogram\":\n",
    "            spectro = librosa.power_to_db(librosa.feature.melspectrogram(y=audio, sr=sr, n_fft=1024))\n",
    "            spectro /= np.max(np.abs(spectro))\n",
    "            features.append(spectro)\n",
    "        elif image_gen_method == \"mfcc_librosa\":\n",
    "            mfcc = librosa.feature.mfcc(y=audio, sr=sr, n_mfcc=60, hop_length=64)\n",
    "            #mfcc = librosa.feature.mfcc(y=audio, sr=sr, norm=None)\n",
    "            mfcc = mfcc / np.max(np.abs(mfcc), axis=0)\n",
    "            features.append(mfcc)\n",
    "        elif image_gen_method == \"mfcc_aubio\":\n",
    "            win_s = 1024\n",
    "            hop_s = 128\n",
    "            n_filters = 40\n",
    "            n_coeffs = 65\n",
    "            mfccs = zeros([n_coeffs,])\n",
    "            p = aubio.pvoc(win_s, hop_s)\n",
    "            m = aubio.mfcc(win_s, n_filters, n_coeffs, sr)\n",
    "            audio_idx = 0\n",
    "            audio = audio.astype('float32')\n",
    "            print(max(audio))\n",
    "            while True:\n",
    "                spec = p(audio[audio_idx: audio_idx + hop_s])\n",
    "                mfcc_out = m(spec)\n",
    "                mfcc_out = mfcc_out / np.max(np.abs(mfcc_out), axis=0)\n",
    "                mfccs = vstack((mfccs, mfcc_out))\n",
    "                audio_idx += hop_s\n",
    "                if audio_idx > len(audio) - hop_s: break\n",
    "            mfccs /= np.max(np.abs(mfccs))\n",
    "            features.append(mfccs)\n",
    "            # aubio.mfcc(buf_size=1024, n_filters=40, n_coeffs=13, samplerate=44100)\n",
    "        elif image_gen_method == \"stft\":\n",
    "            # stft = librosa.stft(y=audio, n_fft=1024, hop_length=128)\n",
    "            stft = mySTFT(y=audio, n_fft=1024, hop_length=128)\n",
    "            stft = np.abs(stft)\n",
    "            stft /= np.max(np.abs(stft))\n",
    "            features.append(stft)\n",
    "            if STFT_noise == True:\n",
    "                features.append(randomSTFT(stft))\n",
    "                features.append(randomSTFT(stft))\n",
    "        elif image_gen_method == \"stft_old\":\n",
    "            stft = librosa.stft(y=audio, n_fft=128, hop_length=32)\n",
    "            # stft = mySTFT(y=audio, n_fft=128, hop_length=32)\n",
    "            stft = np.abs(stft)\n",
    "            stft /= np.max(np.abs(stft))\n",
    "            features.append(stft)\n",
    "            if STFT_noise == True:\n",
    "                features.append(randomSTFT(stft))\n",
    "                features.append(randomSTFT(stft))\n",
    "        elif image_gen_method == \"raw\":\n",
    "            features.append(audio)\n",
    "            # Input(shape=(X_train.shape[1])),\n",
    "\n",
    "    return features"
   ]
  },
  {
   "cell_type": "code",
   "execution_count": 3,
   "metadata": {},
   "outputs": [
    {
     "name": "stdout",
     "output_type": "stream",
     "text": [
      "[[0.01648582 0.01900818 0.05903508 ... 0.00185016 0.00211154 0.00178479]\n",
      " [0.01762229 0.00432757 0.087982   ... 0.00916009 0.01054156 0.01062439]\n",
      " [0.00106062 0.02164529 0.11845702 ... 0.01957028 0.02212759 0.02271729]\n",
      " ...\n",
      " [0.00369735 0.00823158 0.0532215  ... 0.00243122 0.00087248 0.00153017]\n",
      " [0.00343356 0.00597678 0.05287816 ... 0.00225437 0.00110939 0.00015992]\n",
      " [0.00694383 0.00926696 0.04211648 ... 0.00194667 0.00141773 0.00058374]]\n"
     ]
    }
   ],
   "source": [
    "# mfcc result printer\n",
    "\n",
    "# test_audio, sr = librosa.load(\"./PA_sound_normalize/20240511_phone/drum/drum0_0.wav\") \n",
    "# print(max(test_audio))\n",
    "# # mfcc = librosa.feature.mfcc(y=test_audio, sr=sr, n_mfcc=60, hop_length=64)\n",
    "# mfcc = librosa.feature.mfcc(y=test_audio, sr=sr, n_mels=128)\n",
    "\n",
    "# print(mfcc)\n",
    "# mfcc = mfcc / np.max(np.abs(mfcc), axis=0)\n",
    "\n",
    "# stft result\n",
    "test_audio, sr = librosa.load(\"./PA_sound_normalize/20240511_phone/drum/drum0_0.wav\")\n",
    "# print(max(test_audio))\n",
    "# print(test_audio[0:8])\n",
    "# print(np.fft.rfft(test_audio[0:1024]))\n",
    "# origin_stft = librosa.stft(y=test_audio, n_fft=1024, hop_length=128)\n",
    "origin_stft = mySTFT(y=test_audio, n_fft=1024, hop_length=128)\n",
    "origin_stft /= np.max(origin_stft)\n",
    "print(origin_stft)"
   ]
  },
  {
   "cell_type": "markdown",
   "metadata": {
    "id": "L9K325TWeG6W"
   },
   "source": [
    "## Get Data"
   ]
  },
  {
   "cell_type": "markdown",
   "metadata": {
    "id": "VSmRFu2cdpzd"
   },
   "source": [
    "- features : call dataLoader\n",
    "- labels:\n",
    "    - 0 : meat\n",
    "    - 1 : drum\n",
    "    - 2 : column\n"
   ]
  },
  {
   "cell_type": "code",
   "execution_count": 6,
   "metadata": {
    "colab": {
     "base_uri": "https://localhost:8080/"
    },
    "executionInfo": {
     "elapsed": 83999,
     "status": "ok",
     "timestamp": 1714021170995,
     "user": {
      "displayName": "林奕安",
      "userId": "06087888647373566805"
     },
     "user_tz": -480
    },
    "id": "LWSNVu3DUL-7",
    "outputId": "9d12a90a-43d0-4d77-c761-791136bd713d"
   },
   "outputs": [
    {
     "name": "stdout",
     "output_type": "stream",
     "text": [
      "#Files : 785\n",
      "Length of training features: 3294\n",
      "Length of validation features: 474\n",
      "Length of test features: 157\n",
      "#Files : 630\n",
      "Length of training features: 5940\n",
      "Length of validation features: 852\n",
      "Length of test features: 283\n",
      "#Files : 417\n",
      "Length of training features: 7686\n",
      "Length of validation features: 1104\n",
      "Length of test features: 367\n"
     ]
    }
   ],
   "source": [
    "# ceramics_paths = [\"./data/cutData/ceramics/\"]\n",
    "# drum_paths = [\"../cup/data/cutData/metal/\"]\n",
    "# col_paths = [\"../cup/data/cutData/plastic/\"]\n",
    "# meat_paths = [\"../cup/data/cutData/glass/\"]\n",
    "\n",
    "# drum_paths = [\"./PA_sound_normalize/20240511_phone/drum/\"]\n",
    "# col_paths = [\"./PA_sound_normalize/20240511_phone/column/\"]\n",
    "# meat_paths = [\"./PA_sound_normalize/20240511_phone/meat/\"]\n",
    "\n",
    "drum_paths = [\"../../bowen/phone_model/data/20240511_phone/drum/\"]\n",
    "col_paths = [\"../../bowen/phone_model/data/20240511_phone/column/\"]\n",
    "meat_paths = [\"../../bowen/phone_model/data/20240511_phone/meat/\"]\n",
    "\n",
    "audio_aug = True\n",
    "\n",
    "train_features = []\n",
    "train_labels = []\n",
    "val_features = []\n",
    "val_labels = []\n",
    "test_features = []\n",
    "test_labels = []\n",
    "\n",
    "# --------------------------------------------------------------------------\n",
    "for drum_path in drum_paths:\n",
    "    files = os.listdir(drum_path)\n",
    "    print(\"#Files : \" + str(len(files)))\n",
    "\n",
    "    # 打乱文件列表\n",
    "    random.shuffle(files)\n",
    "\n",
    "    # 分割文件列表，70%用于训练，10%用于验证，20%用于测试\n",
    "    total_files = len(files)\n",
    "    train_split_index = int(0.7 * total_files)\n",
    "    val_split_index = int(0.8 * total_files)\n",
    "\n",
    "    train_files = files[:train_split_index]\n",
    "    val_files = files[train_split_index:val_split_index]\n",
    "    test_files = files[val_split_index:]\n",
    "\n",
    "    # 加载训练数据\n",
    "    for file in train_files:\n",
    "        try:\n",
    "            data_list = dataloader(drum_path, file, shift=audio_aug, noise=audio_aug, STFT_noise=True)\n",
    "            for data in data_list:\n",
    "                train_features.append(data)\n",
    "                train_labels.append(1)\n",
    "        except Exception as e:\n",
    "            print(f\"Error processing training file {file}: {e}\")\n",
    "            continue\n",
    "\n",
    "    # 加载验证数据\n",
    "    for file in val_files:\n",
    "        try:\n",
    "            val_data_list = dataloader(drum_path, file, shift=audio_aug, noise=audio_aug, STFT_noise=True)\n",
    "            for data in val_data_list:\n",
    "                val_features.append(data)\n",
    "                val_labels.append(1)\n",
    "        except Exception as e:\n",
    "            print(f\"Error processing validation file {file}: {e}\")\n",
    "            continue\n",
    "\n",
    "    # 加载测试数据\n",
    "    for file in test_files:\n",
    "        try:\n",
    "            test_data_list = dataloader(drum_path, file, shift=False, noise=False)\n",
    "            for data in test_data_list:\n",
    "                test_features.append(data)\n",
    "                test_labels.append(1)\n",
    "        except Exception as e:\n",
    "            print(f\"Error processing test file {file}: {e}\")\n",
    "            continue\n",
    "\n",
    "    print(\"Length of training features:\", len(train_features))\n",
    "    print(\"Length of validation features:\", len(val_features))\n",
    "    print(\"Length of test features:\", len(test_features))\n",
    "\n",
    "# --------------------------------------------------------------------------\n",
    "\n",
    "for col_path in col_paths:\n",
    "    files = os.listdir(col_path)\n",
    "    print(\"#Files : \" + str(len(files)))\n",
    "\n",
    "    # 打乱文件列表\n",
    "    random.shuffle(files)\n",
    "\n",
    "    # 分割文件列表，70%用于训练，10%用于验证，20%用于测试\n",
    "    total_files = len(files)\n",
    "    train_split_index = int(0.7 * total_files)\n",
    "    val_split_index = int(0.8 * total_files)\n",
    "\n",
    "    train_files = files[:train_split_index]\n",
    "    val_files = files[train_split_index:val_split_index]\n",
    "    test_files = files[val_split_index:]\n",
    "\n",
    "    # 加载训练数据\n",
    "    for file in train_files:\n",
    "        try:\n",
    "            data_list = dataloader(col_path, file, shift=audio_aug, noise=audio_aug, STFT_noise=True)\n",
    "            for data in data_list:\n",
    "                train_features.append(data)\n",
    "                train_labels.append(2)\n",
    "        except Exception as e:\n",
    "            print(f\"Error processing training file {file}: {e}\")\n",
    "            continue\n",
    "\n",
    "    # 加载验证数据\n",
    "    for file in val_files:\n",
    "        try:\n",
    "            val_data_list = dataloader(col_path, file, shift=audio_aug, noise=audio_aug, STFT_noise=True)\n",
    "            for data in val_data_list:\n",
    "                val_features.append(data)\n",
    "                val_labels.append(2)\n",
    "        except Exception as e:\n",
    "            print(f\"Error processing validation file {file}: {e}\")\n",
    "            continue\n",
    "\n",
    "    # 加载测试数据\n",
    "    for file in test_files:\n",
    "        try:\n",
    "            test_data_list = dataloader(col_path, file, shift=False, noise=False)\n",
    "            for data in test_data_list:\n",
    "                test_features.append(data)\n",
    "                test_labels.append(2)\n",
    "        except Exception as e:\n",
    "            print(f\"Error processing test file {file}: {e}\")\n",
    "            continue\n",
    "\n",
    "    print(\"Length of training features:\", len(train_features))\n",
    "    print(\"Length of validation features:\", len(val_features))\n",
    "    print(\"Length of test features:\", len(test_features))\n",
    "\n",
    "# --------------------------------------------------------------------------\n",
    "for meat_path in meat_paths:\n",
    "    files = os.listdir(meat_path)\n",
    "    print(\"#Files : \" + str(len(files)))\n",
    "\n",
    "    # 打乱文件列表\n",
    "    random.shuffle(files)\n",
    "\n",
    "    # 分割文件列表，70%用于训练，10%用于验证，20%用于测试\n",
    "    total_files = len(files)\n",
    "    train_split_index = int(0.7 * total_files)\n",
    "    val_split_index = int(0.8 * total_files)\n",
    "\n",
    "    train_files = files[:train_split_index]\n",
    "    val_files = files[train_split_index:val_split_index]\n",
    "    test_files = files[val_split_index:]\n",
    "\n",
    "    # 加载训练数据\n",
    "    for file in train_files:\n",
    "        try:\n",
    "            data_list = dataloader(meat_path, file, shift=audio_aug, noise=audio_aug, STFT_noise=True)\n",
    "            for data in data_list:\n",
    "                train_features.append(data)\n",
    "                train_labels.append(0)\n",
    "        except Exception as e:\n",
    "            print(f\"Error processing training file {file}: {e}\")\n",
    "            continue\n",
    "\n",
    "    # 加载验证数据\n",
    "    for file in val_files:\n",
    "        try:\n",
    "            val_data_list = dataloader(meat_path, file, shift=audio_aug, noise=audio_aug, STFT_noise=True)\n",
    "            for data in val_data_list:\n",
    "                val_features.append(data)\n",
    "                val_labels.append(0)\n",
    "        except Exception as e:\n",
    "            print(f\"Error processing validation file {file}: {e}\")\n",
    "            continue\n",
    "\n",
    "    # 加载测试数据\n",
    "    for file in test_files:\n",
    "        try:\n",
    "            test_data_list = dataloader(meat_path, file, shift=False, noise=False)\n",
    "            for data in test_data_list:\n",
    "                test_features.append(data)\n",
    "                test_labels.append(0)\n",
    "        except Exception as e:\n",
    "            print(f\"Error processing test file {file}: {e}\")\n",
    "            continue\n",
    "\n",
    "    print(\"Length of training features:\", len(train_features))\n",
    "    print(\"Length of validation features:\", len(val_features))\n",
    "    print(\"Length of test features:\", len(test_features))\n",
    "\n"
   ]
  },
  {
   "cell_type": "code",
   "execution_count": 5,
   "metadata": {
    "id": "Gaiik2HTaFJS"
   },
   "outputs": [],
   "source": [
    "# Some elements maybe wrong?\n",
    "filtered_image_list = []\n",
    "filtered_label_list = []\n",
    "\n",
    "\n",
    "for image, label in zip(train_features, train_labels):\n",
    "    if image.shape == (18, 513):\n",
    "        filtered_image_list.append(image)\n",
    "        filtered_label_list.append(label)\n",
    "    else:\n",
    "        print(f\"{image.shape} be skipped.\")\n",
    "# -------------------------------------------------------------------------------------\n",
    "\n",
    "X_train = np.array(filtered_image_list)\n",
    "y_train = np.array(filtered_label_list)"
   ]
  },
  {
   "cell_type": "code",
   "execution_count": 6,
   "metadata": {},
   "outputs": [],
   "source": [
    "# Some elements maybe wrong?\n",
    "filtered_image_list = []\n",
    "filtered_label_list = []\n",
    "\n",
    "for image, label in zip(val_features, val_labels):\n",
    "    if image.shape == (18,513):\n",
    "        filtered_image_list.append(image)\n",
    "        filtered_label_list.append(label)\n",
    "    else:\n",
    "        print(f\"{image.shape} be skipped.\")\n",
    "# -------------------------------------------------------------------------------------\n",
    "\n",
    "X_val = np.array(filtered_image_list)\n",
    "y_val = np.array(filtered_label_list)"
   ]
  },
  {
   "cell_type": "code",
   "execution_count": 7,
   "metadata": {},
   "outputs": [],
   "source": [
    "# Some elements maybe wrong?\n",
    "filtered_image_list = []\n",
    "filtered_label_list = []\n",
    "\n",
    "for image, label in zip(test_features, test_labels):\n",
    "    if image.shape == (18,513):\n",
    "        filtered_image_list.append(image)\n",
    "        filtered_label_list.append(label)\n",
    "    else:\n",
    "        print(f\"{image.shape} be skipped.\")\n",
    "# -------------------------------------------------------------------------------------\n",
    "\n",
    "X_test = np.array(filtered_image_list)\n",
    "y_test = np.array(filtered_label_list)"
   ]
  },
  {
   "cell_type": "code",
   "execution_count": 8,
   "metadata": {},
   "outputs": [
    {
     "name": "stdout",
     "output_type": "stream",
     "text": [
      "(15120, 18, 513)\n",
      "(15120,)\n",
      "(2178, 18, 513)\n",
      "(2178,)\n",
      "(241, 18, 513)\n",
      "(241,)\n"
     ]
    }
   ],
   "source": [
    "print(X_train.shape)\n",
    "print(y_train.shape)\n",
    "print(X_val.shape)\n",
    "print(y_val.shape)\n",
    "print(X_test.shape)\n",
    "print(y_test.shape)"
   ]
  },
  {
   "cell_type": "code",
   "execution_count": 10,
   "metadata": {},
   "outputs": [],
   "source": [
    "# encode => one-hot\n",
    "label_encoder = LabelEncoder()\n",
    "\n",
    "y_train_encoded = label_encoder.fit_transform(y_train)\n",
    "y_train_onehot = to_categorical(y_train_encoded)\n",
    "\n",
    "y_val_encoded = label_encoder.fit_transform(y_val)\n",
    "y_val_onehot = to_categorical(y_val_encoded)\n",
    "\n",
    "y_test_encoded = label_encoder.fit_transform(y_test)\n",
    "y_test_onehot = to_categorical(y_test_encoded)"
   ]
  },
  {
   "cell_type": "markdown",
   "metadata": {
    "id": "t4aqtaPOfp3O"
   },
   "source": [
    "## WanDB"
   ]
  },
  {
   "cell_type": "code",
   "execution_count": 22,
   "metadata": {
    "colab": {
     "base_uri": "https://localhost:8080/",
     "height": 211
    },
    "executionInfo": {
     "elapsed": 296,
     "status": "error",
     "timestamp": 1714021252250,
     "user": {
      "displayName": "林奕安",
      "userId": "06087888647373566805"
     },
     "user_tz": -480
    },
    "id": "OjkSW3beU38s",
    "outputId": "553d16da-ae94-465c-9e0e-8e1bc71cffe0"
   },
   "outputs": [],
   "source": [
    "DATASET = \"manual\"    # \"auto or \"manual\"\n",
    "DATE = \"20240926\"\n",
    "MODEL = \"NN\"\n",
    "VERSION = \"0.0.1\"\n",
    "\n",
    "lr = 0.0001\n",
    "epochs = 50\n",
    "batch_size = 64\n",
    "decay = 0.001"
   ]
  },
  {
   "cell_type": "markdown",
   "metadata": {
    "id": "dIj1qov-eQ_Z"
   },
   "source": [
    "## Training"
   ]
  },
  {
   "cell_type": "code",
   "execution_count": 12,
   "metadata": {},
   "outputs": [],
   "source": [
    "from keras.models import Sequential\n",
    "from keras.layers import Flatten, Dense, Dropout, Input\n",
    "from tensorflow.keras.optimizers import Adam, SGD\n",
    "from keras.callbacks import EarlyStopping, ModelCheckpoint, ReduceLROnPlateau\n",
    "from wandb.integration.keras import WandbMetricsLogger\n",
    "from sklearn.model_selection import train_test_split\n",
    "from keras.regularizers import l2\n",
    "from keras.applications.vgg16 import VGG16\n"
   ]
  },
  {
   "cell_type": "code",
   "execution_count": 57,
   "metadata": {},
   "outputs": [
    {
     "name": "stdout",
     "output_type": "stream",
     "text": [
      "Epoch 1/50\n",
      "181/181 [==============================] - 2s 10ms/step - loss: 0.9061 - accuracy: 0.5427 - val_loss: 0.8223 - val_accuracy: 0.5830\n",
      "Epoch 2/50\n",
      "181/181 [==============================] - 2s 8ms/step - loss: 0.7450 - accuracy: 0.6585 - val_loss: 0.7232 - val_accuracy: 0.6673\n",
      "Epoch 3/50\n",
      "181/181 [==============================] - 2s 8ms/step - loss: 0.6713 - accuracy: 0.7008 - val_loss: 0.6781 - val_accuracy: 0.6866\n",
      "Epoch 4/50\n",
      "181/181 [==============================] - 2s 8ms/step - loss: 0.6270 - accuracy: 0.7180 - val_loss: 0.6662 - val_accuracy: 0.6932\n",
      "Epoch 5/50\n",
      "181/181 [==============================] - 2s 8ms/step - loss: 0.5927 - accuracy: 0.7399 - val_loss: 0.6629 - val_accuracy: 0.7098\n",
      "Epoch 6/50\n",
      "181/181 [==============================] - 2s 9ms/step - loss: 0.5630 - accuracy: 0.7612 - val_loss: 0.6353 - val_accuracy: 0.7147\n",
      "Epoch 7/50\n",
      "181/181 [==============================] - 2s 8ms/step - loss: 0.5355 - accuracy: 0.7737 - val_loss: 0.6064 - val_accuracy: 0.7331\n",
      "Epoch 8/50\n",
      "181/181 [==============================] - 2s 8ms/step - loss: 0.5009 - accuracy: 0.7948 - val_loss: 0.6017 - val_accuracy: 0.7240\n",
      "Epoch 9/50\n",
      "181/181 [==============================] - 2s 8ms/step - loss: 0.4770 - accuracy: 0.8045 - val_loss: 0.6033 - val_accuracy: 0.7319\n",
      "Epoch 10/50\n",
      "181/181 [==============================] - 2s 8ms/step - loss: 0.4530 - accuracy: 0.8144 - val_loss: 0.5979 - val_accuracy: 0.7409\n",
      "Epoch 11/50\n",
      "181/181 [==============================] - 2s 9ms/step - loss: 0.4333 - accuracy: 0.8246 - val_loss: 0.5829 - val_accuracy: 0.7500\n",
      "Epoch 12/50\n",
      "181/181 [==============================] - 2s 9ms/step - loss: 0.4111 - accuracy: 0.8337 - val_loss: 0.5753 - val_accuracy: 0.7591\n",
      "Epoch 13/50\n",
      "181/181 [==============================] - 2s 8ms/step - loss: 0.3904 - accuracy: 0.8410 - val_loss: 0.5712 - val_accuracy: 0.7548\n",
      "Epoch 14/50\n",
      "181/181 [==============================] - 2s 8ms/step - loss: 0.3706 - accuracy: 0.8522 - val_loss: 0.5728 - val_accuracy: 0.7542\n",
      "Epoch 15/50\n",
      "181/181 [==============================] - 2s 9ms/step - loss: 0.3557 - accuracy: 0.8578 - val_loss: 0.5985 - val_accuracy: 0.7512\n",
      "Epoch 16/50\n",
      "181/181 [==============================] - 2s 8ms/step - loss: 0.3381 - accuracy: 0.8653 - val_loss: 0.5897 - val_accuracy: 0.7560\n",
      "Epoch 17/50\n",
      "181/181 [==============================] - 2s 8ms/step - loss: 0.3203 - accuracy: 0.8726 - val_loss: 0.5713 - val_accuracy: 0.7696\n",
      "Epoch 18/50\n",
      "181/181 [==============================] - 2s 8ms/step - loss: 0.3081 - accuracy: 0.8798 - val_loss: 0.5892 - val_accuracy: 0.7663\n",
      "Epoch 19/50\n",
      "181/181 [==============================] - 2s 8ms/step - loss: 0.2948 - accuracy: 0.8843 - val_loss: 0.5867 - val_accuracy: 0.7633\n",
      "Epoch 20/50\n",
      "181/181 [==============================] - 2s 8ms/step - loss: 0.2885 - accuracy: 0.8860 - val_loss: 0.5751 - val_accuracy: 0.7720\n",
      "Epoch 21/50\n",
      "181/181 [==============================] - 2s 9ms/step - loss: 0.2747 - accuracy: 0.8909 - val_loss: 0.6038 - val_accuracy: 0.7705\n",
      "Epoch 22/50\n",
      "181/181 [==============================] - 2s 8ms/step - loss: 0.2606 - accuracy: 0.8973 - val_loss: 0.5947 - val_accuracy: 0.7696\n",
      "Epoch 23/50\n",
      "181/181 [==============================] - 2s 8ms/step - loss: 0.2475 - accuracy: 0.9003 - val_loss: 0.5775 - val_accuracy: 0.7853\n",
      "12/12 [==============================] - 0s 1ms/step - loss: 0.4700 - accuracy: 0.8011\n",
      "測試損失: 0.4699949324131012, 測試準確度: 0.8010899424552917\n"
     ]
    }
   ],
   "source": [
    "\n",
    "# 調整輸入形狀以適應 CNN (添加通道維度)\n",
    "X_train = X_train.reshape(-1, 513, 18, 1)\n",
    "X_val = X_val.reshape(-1, 513, 18, 1)\n",
    "X_test = X_test.reshape(-1, 513, 18, 1)\n",
    "\n",
    "# 構建 CNN 模型\n",
    "model = Sequential([\n",
    "    Conv2D(32, kernel_size=(3, 3), activation='relu', input_shape=(513, 18, 1)),\n",
    "    MaxPooling2D(pool_size=(2, 2)),\n",
    "    Dropout(0.25),\n",
    "    Conv2D(64, kernel_size=(3, 3), activation='relu'),\n",
    "    MaxPooling2D(pool_size=(2, 2)),\n",
    "    Dropout(0.25),\n",
    "    Flatten(),\n",
    "    Dense(128, activation='relu'),\n",
    "    Dropout(0.5),\n",
    "    Dense(y_train_onehot.shape[1], activation='softmax')\n",
    "])\n",
    "\n",
    "# 使用 Adam 優化器\n",
    "adam = Adam(lr=0.0002)\n",
    "model.compile(loss='categorical_crossentropy', optimizer=adam, metrics=['accuracy'])\n",
    "\n",
    "# 定義回調函數\n",
    "early_stopping = EarlyStopping(monitor='val_loss', patience=10)\n",
    "checkpoint_path = f\"./checkpoint/model_checkpoint.ckpt\"\n",
    "model_checkpoint = ModelCheckpoint(filepath=checkpoint_path, save_best_only=True)\n",
    "reduce_lr = ReduceLROnPlateau(monitor='val_loss', factor=0.2, patience=3, min_lr=1e-5)\n",
    "\n",
    "callbacks = [early_stopping]\n",
    "\n",
    "# 訓練模型\n",
    "history = model.fit(X_train, y_train_onehot, epochs=50, batch_size=128, validation_data=(X_val, y_val_onehot), callbacks=callbacks)\n",
    "\n",
    "# 在測試集上評估模型\n",
    "loss, accuracy = model.evaluate(X_test, y_test_onehot)\n",
    "print(f\"測試損失: {loss}, 測試準確度: {accuracy}\")\n",
    "\n"
   ]
  },
  {
   "cell_type": "markdown",
   "metadata": {
    "id": "WgpbbrEwsDzE"
   },
   "source": [
    "### Ver 1.0.0 RNN\n"
   ]
  },
  {
   "cell_type": "code",
   "execution_count": 42,
   "metadata": {
    "colab": {
     "base_uri": "https://localhost:8080/"
    },
    "executionInfo": {
     "elapsed": 145231,
     "status": "ok",
     "timestamp": 1713449796296,
     "user": {
      "displayName": "林奕安",
      "userId": "06087888647373566805"
     },
     "user_tz": -480
    },
    "id": "eKmkuVyRVHDq",
    "outputId": "744d7794-336b-4f51-abbc-62e50cf1a52e"
   },
   "outputs": [
    {
     "name": "stdout",
     "output_type": "stream",
     "text": [
      "Epoch 1/50\n",
      "241/241 [==============================] - 3s 13ms/step - loss: 1.0620 - accuracy: 0.4562 - val_loss: 1.0371 - val_accuracy: 0.4737\n",
      "Epoch 2/50\n",
      "241/241 [==============================] - 3s 12ms/step - loss: 1.0318 - accuracy: 0.4940 - val_loss: 1.0314 - val_accuracy: 0.4828\n",
      "Epoch 3/50\n",
      "241/241 [==============================] - 3s 12ms/step - loss: 1.0126 - accuracy: 0.5052 - val_loss: 1.0320 - val_accuracy: 0.4665\n",
      "Epoch 4/50\n",
      "241/241 [==============================] - 3s 12ms/step - loss: 1.0023 - accuracy: 0.5070 - val_loss: 1.0146 - val_accuracy: 0.4819\n",
      "Epoch 5/50\n",
      "241/241 [==============================] - 3s 12ms/step - loss: 0.9875 - accuracy: 0.5167 - val_loss: 1.0133 - val_accuracy: 0.5118\n",
      "Epoch 6/50\n",
      "241/241 [==============================] - 3s 12ms/step - loss: 0.9726 - accuracy: 0.5323 - val_loss: 1.0209 - val_accuracy: 0.4801\n",
      "Epoch 7/50\n",
      "241/241 [==============================] - 3s 13ms/step - loss: 0.9620 - accuracy: 0.5385 - val_loss: 0.9823 - val_accuracy: 0.5217\n",
      "Epoch 8/50\n",
      "241/241 [==============================] - 3s 13ms/step - loss: 0.9448 - accuracy: 0.5517 - val_loss: 0.9702 - val_accuracy: 0.5290\n",
      "Epoch 9/50\n",
      "241/241 [==============================] - 3s 12ms/step - loss: 0.9290 - accuracy: 0.5600 - val_loss: 0.9009 - val_accuracy: 0.5842\n",
      "Epoch 10/50\n",
      "241/241 [==============================] - 3s 12ms/step - loss: 0.8834 - accuracy: 0.5974 - val_loss: 0.7965 - val_accuracy: 0.6476\n",
      "Epoch 11/50\n",
      "241/241 [==============================] - 3s 12ms/step - loss: 0.8136 - accuracy: 0.6340 - val_loss: 0.7458 - val_accuracy: 0.6513\n",
      "Epoch 12/50\n",
      "241/241 [==============================] - 3s 12ms/step - loss: 0.7515 - accuracy: 0.6593 - val_loss: 0.6996 - val_accuracy: 0.6803\n",
      "Epoch 13/50\n",
      "241/241 [==============================] - 3s 12ms/step - loss: 0.7375 - accuracy: 0.6674 - val_loss: 0.7002 - val_accuracy: 0.6712\n",
      "Epoch 14/50\n",
      "241/241 [==============================] - 3s 13ms/step - loss: 0.7097 - accuracy: 0.6828 - val_loss: 0.7357 - val_accuracy: 0.6703\n",
      "Epoch 15/50\n",
      "241/241 [==============================] - 3s 12ms/step - loss: 0.6900 - accuracy: 0.6929 - val_loss: 0.6948 - val_accuracy: 0.6594\n",
      "Epoch 16/50\n",
      "241/241 [==============================] - 3s 12ms/step - loss: 0.6757 - accuracy: 0.7019 - val_loss: 0.7784 - val_accuracy: 0.6467\n",
      "Epoch 17/50\n",
      "241/241 [==============================] - 3s 12ms/step - loss: 0.6556 - accuracy: 0.7090 - val_loss: 0.6918 - val_accuracy: 0.6585\n",
      "Epoch 18/50\n",
      "241/241 [==============================] - 3s 12ms/step - loss: 0.6365 - accuracy: 0.7234 - val_loss: 0.7418 - val_accuracy: 0.6621\n",
      "Epoch 19/50\n",
      "241/241 [==============================] - 3s 13ms/step - loss: 0.6390 - accuracy: 0.7208 - val_loss: 0.6881 - val_accuracy: 0.6676\n",
      "Epoch 20/50\n",
      "241/241 [==============================] - 3s 12ms/step - loss: 0.6067 - accuracy: 0.7309 - val_loss: 0.6848 - val_accuracy: 0.6748\n",
      "Epoch 21/50\n",
      "241/241 [==============================] - 3s 12ms/step - loss: 0.5974 - accuracy: 0.7406 - val_loss: 0.6672 - val_accuracy: 0.6929\n",
      "Epoch 22/50\n",
      "241/241 [==============================] - 3s 12ms/step - loss: 0.5801 - accuracy: 0.7440 - val_loss: 0.6973 - val_accuracy: 0.6920\n",
      "Epoch 23/50\n",
      "241/241 [==============================] - 3s 12ms/step - loss: 0.5684 - accuracy: 0.7475 - val_loss: 0.6987 - val_accuracy: 0.6803\n",
      "Epoch 24/50\n",
      "241/241 [==============================] - 3s 12ms/step - loss: 0.5634 - accuracy: 0.7590 - val_loss: 0.6684 - val_accuracy: 0.6993\n",
      "Epoch 25/50\n",
      "241/241 [==============================] - 3s 12ms/step - loss: 0.5611 - accuracy: 0.7645 - val_loss: 0.6808 - val_accuracy: 0.6920\n",
      "Epoch 26/50\n",
      "241/241 [==============================] - 3s 12ms/step - loss: 0.5478 - accuracy: 0.7601 - val_loss: 0.6475 - val_accuracy: 0.7029\n",
      "Epoch 27/50\n",
      "241/241 [==============================] - 3s 12ms/step - loss: 0.5338 - accuracy: 0.7723 - val_loss: 0.6732 - val_accuracy: 0.7092\n",
      "Epoch 28/50\n",
      "241/241 [==============================] - 3s 12ms/step - loss: 0.5233 - accuracy: 0.7745 - val_loss: 0.6634 - val_accuracy: 0.6993\n",
      "Epoch 29/50\n",
      "241/241 [==============================] - 3s 12ms/step - loss: 0.5102 - accuracy: 0.7753 - val_loss: 0.6665 - val_accuracy: 0.7138\n",
      "Epoch 30/50\n",
      "241/241 [==============================] - 3s 12ms/step - loss: 0.5025 - accuracy: 0.7843 - val_loss: 0.6632 - val_accuracy: 0.7138\n",
      "Epoch 31/50\n",
      "241/241 [==============================] - 3s 12ms/step - loss: 0.4904 - accuracy: 0.7918 - val_loss: 0.6919 - val_accuracy: 0.7065\n",
      "Epoch 32/50\n",
      "241/241 [==============================] - 3s 13ms/step - loss: 0.5021 - accuracy: 0.7855 - val_loss: 0.6700 - val_accuracy: 0.7029\n",
      "Epoch 33/50\n",
      "241/241 [==============================] - 3s 12ms/step - loss: 0.4865 - accuracy: 0.7899 - val_loss: 0.7120 - val_accuracy: 0.7138\n",
      "Epoch 34/50\n",
      "241/241 [==============================] - 3s 12ms/step - loss: 0.4806 - accuracy: 0.8015 - val_loss: 0.6590 - val_accuracy: 0.7056\n",
      "Epoch 35/50\n",
      "241/241 [==============================] - 3s 13ms/step - loss: 0.4771 - accuracy: 0.7940 - val_loss: 0.6765 - val_accuracy: 0.7138\n",
      "Epoch 36/50\n",
      "241/241 [==============================] - 3s 12ms/step - loss: 0.4605 - accuracy: 0.8087 - val_loss: 0.6799 - val_accuracy: 0.7056\n",
      "Epoch 37/50\n",
      "241/241 [==============================] - 3s 12ms/step - loss: 0.4564 - accuracy: 0.8078 - val_loss: 0.6920 - val_accuracy: 0.6984\n",
      "Epoch 38/50\n",
      "241/241 [==============================] - 3s 12ms/step - loss: 0.4635 - accuracy: 0.8054 - val_loss: 0.6735 - val_accuracy: 0.6957\n",
      "Epoch 39/50\n",
      "241/241 [==============================] - 3s 12ms/step - loss: 0.4547 - accuracy: 0.8082 - val_loss: 0.6887 - val_accuracy: 0.7074\n",
      "Epoch 40/50\n",
      "241/241 [==============================] - 3s 12ms/step - loss: 0.4462 - accuracy: 0.8089 - val_loss: 0.7420 - val_accuracy: 0.7264\n",
      "Epoch 41/50\n",
      "241/241 [==============================] - 3s 12ms/step - loss: 0.4440 - accuracy: 0.8078 - val_loss: 0.6646 - val_accuracy: 0.7074\n",
      "35/35 [==============================] - 0s 3ms/step - loss: 0.6646 - accuracy: 0.7074\n",
      "測試損失: 0.6645910143852234, 測試準確度: 0.7074275612831116\n"
     ]
    }
   ],
   "source": [
    "# X : features ，y : label（'Drum sound' or 'Meat sound'）\n",
    "\n",
    "# encode => one-hot\n",
    "# label_encoder = LabelEncoder()\n",
    "# y_encoded = label_encoder.fit_transform(y)\n",
    "# y_onehot = to_categorical(y_encoded)\n",
    "\n",
    "# # split\n",
    "# X_train, X_test, y_train, y_test = train_test_split(X, y_onehot, test_size=0.2, random_state=42)\n",
    "\n",
    "# define model\n",
    "model = Sequential([\n",
    "    SimpleRNN(64, input_shape=(X_train.shape[1], X_train.shape[2]), activation='relu'),\n",
    "    Dropout(0.2),\n",
    "    Dense(32, activation='relu'),\n",
    "    Dropout(0.2),\n",
    "    Dense(y_train_onehot.shape[1], activation='softmax')\n",
    "])\n",
    "\n",
    "adam = Adam(lr=0.001, beta_1=0.9, beta_2=0.999, epsilon=None, decay=0.0005, amsgrad=False)\n",
    "model.compile(loss='categorical_crossentropy', optimizer=adam, metrics=['accuracy'])\n",
    "early_stopping = EarlyStopping(monitor='val_loss', patience=15)\n",
    "\n",
    "# train model\n",
    "model.fit(X_train, y_train_onehot, epochs=50, batch_size=32, validation_data=(X_val, y_val_onehot),\n",
    "          callbacks=[early_stopping])\n",
    "\n",
    "# evaluate\n",
    "loss, accuracy = model.evaluate(X_val, y_val_onehot)\n",
    "print(f\"測試損失: {loss}, 測試準確度: {accuracy}\")\n",
    "\n",
    "# prediction\n",
    "# predictions = model.predict(X_test)"
   ]
  },
  {
   "cell_type": "markdown",
   "metadata": {
    "id": "o7ybWf6httvd"
   },
   "source": [
    "### Ver 2.0.0 LTSM"
   ]
  },
  {
   "cell_type": "code",
   "execution_count": 19,
   "metadata": {
    "colab": {
     "base_uri": "https://localhost:8080/"
    },
    "executionInfo": {
     "elapsed": 111282,
     "status": "ok",
     "timestamp": 1714024749766,
     "user": {
      "displayName": "林奕安",
      "userId": "06087888647373566805"
     },
     "user_tz": -480
    },
    "id": "FkUubd-Jtxln",
    "outputId": "93954814-34c4-466c-8828-e1f01d55ce8d"
   },
   "outputs": [
    {
     "name": "stdout",
     "output_type": "stream",
     "text": [
      "WARNING:tensorflow:Layer lstm will not use cuDNN kernels since it doesn't meet the criteria. It will use a generic GPU kernel as fallback when running on GPU.\n",
      "Epoch 1/300\n",
      "241/241 [==============================] - 6s 23ms/step - loss: 1.0504 - accuracy: 0.4452 - val_loss: 1.0149 - val_accuracy: 0.5308\n",
      "Epoch 2/300\n",
      "241/241 [==============================] - 5s 23ms/step - loss: 0.8975 - accuracy: 0.5805 - val_loss: 0.8497 - val_accuracy: 0.6123\n",
      "Epoch 3/300\n",
      "241/241 [==============================] - 5s 23ms/step - loss: 0.7750 - accuracy: 0.6586 - val_loss: 0.7513 - val_accuracy: 0.6694\n",
      "Epoch 4/300\n",
      "241/241 [==============================] - 5s 22ms/step - loss: 0.7205 - accuracy: 0.6868 - val_loss: 0.6955 - val_accuracy: 0.7020\n",
      "Epoch 5/300\n",
      "241/241 [==============================] - 5s 22ms/step - loss: 0.6829 - accuracy: 0.7015 - val_loss: 0.7326 - val_accuracy: 0.6821\n",
      "Epoch 6/300\n",
      "241/241 [==============================] - 5s 23ms/step - loss: 0.6644 - accuracy: 0.7087 - val_loss: 0.6891 - val_accuracy: 0.7083\n",
      "Epoch 7/300\n",
      "241/241 [==============================] - 5s 22ms/step - loss: 0.6507 - accuracy: 0.7187 - val_loss: 0.6339 - val_accuracy: 0.7219\n",
      "Epoch 8/300\n",
      "241/241 [==============================] - 5s 22ms/step - loss: 0.6220 - accuracy: 0.7283 - val_loss: 0.6462 - val_accuracy: 0.7255\n",
      "Epoch 9/300\n",
      "241/241 [==============================] - 5s 23ms/step - loss: 0.6165 - accuracy: 0.7311 - val_loss: 0.6434 - val_accuracy: 0.7156\n",
      "Epoch 10/300\n",
      "241/241 [==============================] - 5s 23ms/step - loss: 0.6069 - accuracy: 0.7426 - val_loss: 0.6393 - val_accuracy: 0.7074\n",
      "Epoch 11/300\n",
      "241/241 [==============================] - 5s 23ms/step - loss: 0.5825 - accuracy: 0.7514 - val_loss: 0.6230 - val_accuracy: 0.7083\n",
      "Epoch 12/300\n",
      "241/241 [==============================] - 5s 22ms/step - loss: 0.5736 - accuracy: 0.7532 - val_loss: 0.6327 - val_accuracy: 0.7029\n",
      "Epoch 13/300\n",
      "241/241 [==============================] - 5s 23ms/step - loss: 0.5551 - accuracy: 0.7652 - val_loss: 0.6155 - val_accuracy: 0.7120\n",
      "Epoch 14/300\n",
      "241/241 [==============================] - 5s 22ms/step - loss: 0.5492 - accuracy: 0.7662 - val_loss: 0.6268 - val_accuracy: 0.7255\n",
      "Epoch 15/300\n",
      "241/241 [==============================] - 5s 22ms/step - loss: 0.5412 - accuracy: 0.7679 - val_loss: 0.6357 - val_accuracy: 0.7274\n",
      "Epoch 16/300\n",
      "241/241 [==============================] - 5s 23ms/step - loss: 0.5312 - accuracy: 0.7757 - val_loss: 0.6220 - val_accuracy: 0.7400\n",
      "Epoch 17/300\n",
      "241/241 [==============================] - 5s 23ms/step - loss: 0.5260 - accuracy: 0.7784 - val_loss: 0.6022 - val_accuracy: 0.7274\n",
      "Epoch 18/300\n",
      "241/241 [==============================] - 6s 23ms/step - loss: 0.5248 - accuracy: 0.7762 - val_loss: 0.5978 - val_accuracy: 0.7292\n",
      "Epoch 19/300\n",
      "241/241 [==============================] - 5s 23ms/step - loss: 0.5125 - accuracy: 0.7796 - val_loss: 0.6009 - val_accuracy: 0.7237\n",
      "Epoch 20/300\n",
      "241/241 [==============================] - 5s 23ms/step - loss: 0.5036 - accuracy: 0.7857 - val_loss: 0.5825 - val_accuracy: 0.7400\n",
      "Epoch 21/300\n",
      "241/241 [==============================] - 5s 23ms/step - loss: 0.4941 - accuracy: 0.7947 - val_loss: 0.5999 - val_accuracy: 0.7319\n",
      "Epoch 22/300\n",
      "241/241 [==============================] - 5s 22ms/step - loss: 0.4934 - accuracy: 0.7918 - val_loss: 0.5960 - val_accuracy: 0.7437\n",
      "Epoch 23/300\n",
      "241/241 [==============================] - 5s 23ms/step - loss: 0.4887 - accuracy: 0.7910 - val_loss: 0.6310 - val_accuracy: 0.7174\n",
      "Epoch 24/300\n",
      "241/241 [==============================] - 5s 23ms/step - loss: 0.4776 - accuracy: 0.7983 - val_loss: 0.6024 - val_accuracy: 0.7337\n",
      "Epoch 25/300\n",
      "241/241 [==============================] - 5s 22ms/step - loss: 0.4677 - accuracy: 0.8008 - val_loss: 0.5896 - val_accuracy: 0.7418\n",
      "Epoch 26/300\n",
      "241/241 [==============================] - 5s 22ms/step - loss: 0.4712 - accuracy: 0.8051 - val_loss: 0.5841 - val_accuracy: 0.7409\n",
      "Epoch 27/300\n",
      "241/241 [==============================] - 5s 22ms/step - loss: 0.4641 - accuracy: 0.7973 - val_loss: 0.5819 - val_accuracy: 0.7473\n",
      "Epoch 28/300\n",
      "241/241 [==============================] - 5s 23ms/step - loss: 0.4570 - accuracy: 0.8046 - val_loss: 0.5648 - val_accuracy: 0.7518\n",
      "Epoch 29/300\n",
      "241/241 [==============================] - 5s 22ms/step - loss: 0.4555 - accuracy: 0.8054 - val_loss: 0.5940 - val_accuracy: 0.7346\n",
      "Epoch 30/300\n",
      "241/241 [==============================] - 5s 23ms/step - loss: 0.4481 - accuracy: 0.8091 - val_loss: 0.6419 - val_accuracy: 0.7264\n",
      "Epoch 31/300\n",
      "241/241 [==============================] - 5s 23ms/step - loss: 0.4416 - accuracy: 0.8090 - val_loss: 0.5871 - val_accuracy: 0.7292\n",
      "Epoch 32/300\n",
      "241/241 [==============================] - 5s 23ms/step - loss: 0.4471 - accuracy: 0.8124 - val_loss: 0.5977 - val_accuracy: 0.7382\n",
      "Epoch 33/300\n",
      "241/241 [==============================] - 5s 22ms/step - loss: 0.4365 - accuracy: 0.8134 - val_loss: 0.5845 - val_accuracy: 0.7382\n",
      "Epoch 34/300\n",
      "241/241 [==============================] - 5s 23ms/step - loss: 0.4272 - accuracy: 0.8143 - val_loss: 0.5565 - val_accuracy: 0.7572\n",
      "Epoch 35/300\n",
      "241/241 [==============================] - 5s 22ms/step - loss: 0.4301 - accuracy: 0.8152 - val_loss: 0.5568 - val_accuracy: 0.7600\n",
      "Epoch 36/300\n",
      "241/241 [==============================] - 5s 22ms/step - loss: 0.4216 - accuracy: 0.8177 - val_loss: 0.5762 - val_accuracy: 0.7500\n",
      "Epoch 37/300\n",
      "241/241 [==============================] - 5s 22ms/step - loss: 0.4162 - accuracy: 0.8199 - val_loss: 0.5642 - val_accuracy: 0.7373\n",
      "Epoch 38/300\n",
      "241/241 [==============================] - 6s 23ms/step - loss: 0.4137 - accuracy: 0.8264 - val_loss: 0.5567 - val_accuracy: 0.7545\n",
      "Epoch 39/300\n",
      "241/241 [==============================] - 5s 23ms/step - loss: 0.4094 - accuracy: 0.8253 - val_loss: 0.5681 - val_accuracy: 0.7446\n",
      "Epoch 40/300\n",
      "241/241 [==============================] - 6s 23ms/step - loss: 0.4042 - accuracy: 0.8283 - val_loss: 0.5595 - val_accuracy: 0.7500\n",
      "Epoch 41/300\n",
      "241/241 [==============================] - 5s 22ms/step - loss: 0.4014 - accuracy: 0.8281 - val_loss: 0.5893 - val_accuracy: 0.7446\n",
      "Epoch 42/300\n",
      "241/241 [==============================] - 5s 22ms/step - loss: 0.4004 - accuracy: 0.8285 - val_loss: 0.5727 - val_accuracy: 0.7545\n",
      "Epoch 43/300\n",
      "241/241 [==============================] - 5s 23ms/step - loss: 0.3928 - accuracy: 0.8305 - val_loss: 0.5928 - val_accuracy: 0.7382\n",
      "Epoch 44/300\n",
      "241/241 [==============================] - 5s 22ms/step - loss: 0.3918 - accuracy: 0.8316 - val_loss: 0.5685 - val_accuracy: 0.7428\n",
      "Epoch 45/300\n",
      "241/241 [==============================] - 5s 23ms/step - loss: 0.3890 - accuracy: 0.8314 - val_loss: 0.5790 - val_accuracy: 0.7418\n",
      "Epoch 46/300\n",
      "241/241 [==============================] - 5s 23ms/step - loss: 0.3869 - accuracy: 0.8316 - val_loss: 0.5758 - val_accuracy: 0.7545\n",
      "Epoch 47/300\n",
      "241/241 [==============================] - 5s 22ms/step - loss: 0.3861 - accuracy: 0.8365 - val_loss: 0.5795 - val_accuracy: 0.7636\n",
      "Epoch 48/300\n",
      "241/241 [==============================] - 5s 23ms/step - loss: 0.3789 - accuracy: 0.8384 - val_loss: 0.6024 - val_accuracy: 0.7464\n",
      "Epoch 49/300\n",
      "241/241 [==============================] - 5s 23ms/step - loss: 0.3741 - accuracy: 0.8391 - val_loss: 0.5814 - val_accuracy: 0.7509\n",
      "35/35 [==============================] - 0s 5ms/step - loss: 0.5814 - accuracy: 0.7509\n",
      "測試損失: 0.5813952088356018, 測試準確度: 0.7509058117866516\n"
     ]
    }
   ],
   "source": [
    "from keras.models import Sequential\n",
    "from keras.layers import LSTM, Dense, Dropout\n",
    "from tensorflow.keras.optimizers import Adam, SGD\n",
    "from keras.callbacks import EarlyStopping, ModelCheckpoint, ReduceLROnPlateau\n",
    "from sklearn.model_selection import train_test_split\n",
    "from keras.regularizers import l2\n",
    "\n",
    "# X : features ，y : label（'Drum sound' or 'Meat sound'）\n",
    "\n",
    "# # encode => one-hot\n",
    "# label_encoder = LabelEncoder()\n",
    "# y_encoded = label_encoder.fit_transform(y)\n",
    "# y_onehot = to_categorical(y_encoded)\n",
    "\n",
    "# X_train, X_test, y_train, y_test = train_test_split(X, y_onehot, test_size=0.2, random_state=42)\n",
    "# print(y_train[0])\n",
    "# define model\n",
    "model = Sequential([\n",
    "    LSTM(256, input_shape=(X_train.shape[1], X_train.shape[2]), activation='relu', recurrent_dropout=0.1),\n",
    "    Dense(64, activation='relu'),\n",
    "    Dropout(0.1),\n",
    "    Dense(y_train_onehot.shape[1], activation='softmax')\n",
    "])\n",
    "adam = Adam(lr=0.001, beta_1=0.9, beta_2=0.999, epsilon=None, decay=0.0005, amsgrad=False)\n",
    "model.compile(loss='categorical_crossentropy', optimizer=adam, metrics=['accuracy'])\n",
    "\n",
    "# TODO:\n",
    "# Create callbacks:\n",
    "# 1. early stopping (with a patience of 5 epochs)\n",
    "early_stopping = EarlyStopping(monitor='val_loss', patience=15)\n",
    "# 2. model checkpointing\n",
    "#checkpoint_path = f\"../checkpoint/{MODEL}/{DATE}_{MODEL}_v{VERSION}.ckpt\"\n",
    "#model_checkpoint = ModelCheckpoint(filepath=checkpoint_path, save_best_only=True)\n",
    "# 3. learning rate reduction on plateau\n",
    "# reduce_lr = ReduceLROnPlateau(monitor='val_loss', factor=0.2, patience=3, min_lr=0.001)\n",
    "\n",
    "# model.fit(X_train, y_train, epochs=100, batch_size=64, validation_data=(X_test, y_test),\n",
    "#           callbacks=[WandbCallback(), early_stopping, model_checkpoint, reduce_lr])\n",
    "\n",
    "\n",
    "# train model\n",
    "model.fit(X_train, y_train_onehot, epochs=300, batch_size=32, validation_data=(X_val, y_val_onehot),\n",
    "          callbacks=[early_stopping])\n",
    "\n",
    "# evaluate\n",
    "loss, accuracy = model.evaluate(X_val, y_val_onehot)\n",
    "print(f\"測試損失: {loss}, 測試準確度: {accuracy}\")\n"
   ]
  },
  {
   "cell_type": "code",
   "execution_count": 39,
   "metadata": {},
   "outputs": [
    {
     "name": "stdout",
     "output_type": "stream",
     "text": [
      "Epoch 1/500\n",
      "237/237 [==============================] - 1s 3ms/step - loss: 0.3589 - accuracy: 0.8574 - val_loss: 0.3505 - val_accuracy: 0.8792\n",
      "Epoch 2/500\n",
      "237/237 [==============================] - 0s 2ms/step - loss: 0.2173 - accuracy: 0.9212 - val_loss: 0.3630 - val_accuracy: 0.8669\n",
      "Epoch 3/500\n",
      "237/237 [==============================] - 0s 2ms/step - loss: 0.1804 - accuracy: 0.9376 - val_loss: 0.3526 - val_accuracy: 0.8838\n",
      "Epoch 4/500\n",
      "237/237 [==============================] - 0s 2ms/step - loss: 0.1476 - accuracy: 0.9468 - val_loss: 0.3569 - val_accuracy: 0.8733\n",
      "Epoch 5/500\n",
      "237/237 [==============================] - 0s 2ms/step - loss: 0.1287 - accuracy: 0.9524 - val_loss: 0.3989 - val_accuracy: 0.8710\n",
      "Epoch 6/500\n",
      "237/237 [==============================] - 0s 2ms/step - loss: 0.1065 - accuracy: 0.9597 - val_loss: 0.3596 - val_accuracy: 0.8898\n",
      "Epoch 7/500\n",
      "237/237 [==============================] - 0s 2ms/step - loss: 0.0941 - accuracy: 0.9653 - val_loss: 0.4385 - val_accuracy: 0.8976\n",
      "Epoch 8/500\n",
      "237/237 [==============================] - 0s 2ms/step - loss: 0.0884 - accuracy: 0.9673 - val_loss: 0.3581 - val_accuracy: 0.8884\n",
      "Epoch 9/500\n",
      "237/237 [==============================] - 0s 2ms/step - loss: 0.0857 - accuracy: 0.9688 - val_loss: 0.8302 - val_accuracy: 0.7599\n",
      "Epoch 10/500\n",
      "237/237 [==============================] - 0s 2ms/step - loss: 0.0789 - accuracy: 0.9711 - val_loss: 0.4566 - val_accuracy: 0.8843\n",
      "Epoch 11/500\n",
      "237/237 [==============================] - 0s 2ms/step - loss: 0.0640 - accuracy: 0.9767 - val_loss: 0.4217 - val_accuracy: 0.8875\n",
      "69/69 [==============================] - 0s 928us/step - loss: 0.4217 - accuracy: 0.8875\n",
      "測試損失: 0.4216867685317993, 測試準確度: 0.8875114917755127\n"
     ]
    }
   ],
   "source": [
    "\n",
    "\n",
    "# X : features ，y : label（'Drum sound' or 'Meat sound'）\n",
    "\n",
    "#X_train1, X_val, y_train_onehot1, y_val_onehot = train_test_split(X_train, y_train_onehot, test_size=0.1, random_state=42)\n",
    "\n",
    "\n",
    "# define model\n",
    "# model = Sequential([\n",
    "#     Flatten(input_shape=(X_train.shape[1], X_train.shape[2])),\n",
    "#     Dense(512, input_shape=(X_train.shape[1], X_train.shape[2]), activation='relu'),\n",
    "#     Dropout(0.1),\n",
    "#     Dense(y_onehot.shape[1], activation='softmax')\n",
    "# ])\n",
    "model = Sequential([\n",
    "    Input(shape=(X_train.shape[1], X_train.shape[2]), name='input_2'),\n",
    "    Flatten(),\n",
    "    Dense(256, activation='relu'),\n",
    "    BatchNormalization(),\n",
    "    Dropout(0.2),\n",
    "    Dense(64, activation='relu'),\n",
    "    BatchNormalization(),\n",
    "    Dropout(0.2),\n",
    "    Dense(y_train_onehot.shape[1], activation='softmax')\n",
    "])\n",
    "\n",
    "adam = Adam(lr=0.0001, beta_1=0.9, beta_2=0.999, epsilon=None, amsgrad=False)\n",
    "model.compile(loss='categorical_crossentropy', optimizer=adam, metrics=['accuracy'])\n",
    "\n",
    "# TODO:\n",
    "# Create callbacks:\n",
    "# 1. early stopping (with a patience of 5 epochs)\n",
    "early_stopping = EarlyStopping(monitor='val_loss', patience=10)\n",
    "# 2. model checkpointing\n",
    "#checkpoint_path = f\"../checkpoint/{MODEL}/{DATE}_{MODEL}_v{VERSION}.ckpt\"\n",
    "#model_checkpoint = ModelCheckpoint(filepath=checkpoint_path, save_best_only=True)\n",
    "# 3. learning rate reduction on plateau\n",
    "# reduce_lr = ReduceLROnPlateau(monitor='val_loss', factor=0.2, patience=3, min_lr=0.001)\n",
    "\n",
    "# model.fit(X_train, y_train, epochs=100, batch_size=64, validation_data=(X_val, y_val),\n",
    "#           callbacks=[WandbCallback(), early_stopping, model_checkpoint, reduce_lr])\n",
    "\n",
    "\n",
    "# train model\n",
    "model.fit(X_train, y_train_onehot, epochs=500, batch_size=batch_size, validation_data=(X_val, y_val_onehot),\n",
    "          callbacks=[early_stopping])\n",
    "\n",
    "# evaluate\n",
    "loss, accuracy = model.evaluate(X_val, y_val_onehot)\n",
    "print(f\"測試損失: {loss}, 測試準確度: {accuracy}\")\n"
   ]
  },
  {
   "cell_type": "code",
   "execution_count": 40,
   "metadata": {},
   "outputs": [
    {
     "name": "stdout",
     "output_type": "stream",
     "text": [
      "8/8 [==============================] - 0s 1ms/step - loss: 0.1004 - accuracy: 0.9627\n",
      "測試損失: 0.10038008540868759, 測試準確度: 0.9626556038856506\n"
     ]
    }
   ],
   "source": [
    "loss, accuracy = model.evaluate(X_test, y_test_onehot)\n",
    "print(f\"測試損失: {loss}, 測試準確度: {accuracy}\")"
   ]
  },
  {
   "cell_type": "code",
   "execution_count": 21,
   "metadata": {},
   "outputs": [],
   "source": [
    "# from keras.models import Sequential\n",
    "# from keras.layers import Conv2D, MaxPooling2D, Flatten, Activation, Dense, Dropout\n",
    "# from tensorflow.keras.optimizers import Adam, SGD\n",
    "# from keras.callbacks import EarlyStopping, ModelCheckpoint, ReduceLROnPlateau\n",
    "# from sklearn.model_selection import train_test_split\n",
    "# from keras.regularizers import l2\n",
    "\n",
    "# # X : features ，y : label（'Drum sound' or 'Meat sound'）\n",
    "\n",
    "# # encode => one-hot\n",
    "# label_encoder = LabelEncoder()\n",
    "# y_encoded = label_encoder.fit_transform(y)\n",
    "# y_onehot = to_categorical(y_encoded)\n",
    "\n",
    "# X_train, X_test, y_train, y_test = train_test_split(X, y_onehot, test_size=0.2, random_state=40)\n",
    "# X_train = X_train[..., np.newaxis]\n",
    "# y_train = y_train[..., np.newaxis]\n",
    "# print(y_train.shape)\n",
    "# # define model\n",
    "# model = Sequential([\n",
    "#     Conv2D(64, kernel_size=(2, 2), activation='relu', input_shape=(5, 60, 1)),\n",
    "#     Conv2D(192, (2, 2)),\n",
    "#     Activation('relu'),\n",
    "#     Conv2D(32, (2, 2)),\n",
    "#     Activation('relu'),\n",
    "#     # Dropout層隨機斷開輸入神經元，用於防止過度擬合，斷開比例:0.25\n",
    "#     Dropout(0.25),\n",
    "#     # Flatten層把多維的輸入一維化，常用在從卷積層到全連接層的過渡。\n",
    "#     Flatten(),\n",
    "#     # 全連接層: 128個output\n",
    "#     Dense(128, activation='relu'),\n",
    "#     Dropout(0.25),\n",
    "#     # Add output layer\n",
    "#     Dense(2, activation='softmax')\n",
    "# ])\n",
    "# adam = Adam(lr=0.02, beta_1=0.9, beta_2=0.999, epsilon=None, decay=0.001, amsgrad=False)\n",
    "# model.compile(loss='categorical_crossentropy', optimizer=adam, metrics=['accuracy'])\n",
    "\n",
    "# # TODO:\n",
    "# # Create callbacks:\n",
    "# # 1. early stopping (with a patience of 5 epochs)\n",
    "# early_stopping = EarlyStopping(monitor='val_loss', patience=50)\n",
    "# # 2. model checkpointing\n",
    "# checkpoint_path = f\"../checkpoint/{MODEL}/{DATE}_{MODEL}_v{VERSION}.ckpt\"\n",
    "# model_checkpoint = ModelCheckpoint(filepath=checkpoint_path, save_best_only=True)\n",
    "# # 3. learning rate reduction on plateau\n",
    "# # reduce_lr = ReduceLROnPlateau(monitor='val_loss', factor=0.2, patience=3, min_lr=0.001)\n",
    "\n",
    "# # model.fit(X_train, y_train, epochs=100, batch_size=64, validation_data=(X_test, y_test),\n",
    "# #           callbacks=[WandbCallback(), early_stopping, model_checkpoint, reduce_lr])\n",
    "\n",
    "\n",
    "# # train model\n",
    "# model.fit(X_train, y_train, epochs=300, batch_size=128, validation_data=(X_test, y_test),\n",
    "#           callbacks=[early_stopping, model_checkpoint])\n",
    "\n",
    "# # evaluate\n",
    "# loss, accuracy = model.evaluate(X_test, y_test)\n",
    "# print(f\"測試損失: {loss}, 測試準確度: {accuracy}\")"
   ]
  },
  {
   "cell_type": "markdown",
   "metadata": {
    "id": "rYCygX-XkhYl"
   },
   "source": [
    "## Test"
   ]
  },
  {
   "cell_type": "code",
   "execution_count": 41,
   "metadata": {
    "id": "1KL9lXxrkow1"
   },
   "outputs": [],
   "source": [
    "import seaborn as sns"
   ]
  },
  {
   "cell_type": "code",
   "execution_count": 42,
   "metadata": {
    "colab": {
     "base_uri": "https://localhost:8080/"
    },
    "executionInfo": {
     "elapsed": 1168,
     "status": "ok",
     "timestamp": 1714024843315,
     "user": {
      "displayName": "林奕安",
      "userId": "06087888647373566805"
     },
     "user_tz": -480
    },
    "id": "NRT2R9PCjta1",
    "outputId": "b63e00d3-35e7-4ea5-d9f4-ed9604e6d86d"
   },
   "outputs": [],
   "source": [
    "y_pred = model.predict(X_test)\n",
    "\n",
    "y_pred_1 = []\n",
    "y_test_1 = []\n",
    "for i in y_pred:\n",
    "    max_id = 0\n",
    "    max_val = 0\n",
    "    for j in range(2):\n",
    "        if i[j] > 0.5:\n",
    "            max_id = j\n",
    "            max_val = i[j]\n",
    "    y_pred_1.append(max_id)\n",
    "\n",
    "for i in y_test_onehot:\n",
    "    max_id = 0\n",
    "    max_val = 0\n",
    "    for j in range(2):\n",
    "        if max_val < i[j]:\n",
    "            max_id = j\n",
    "            max_val = i[j]\n",
    "    y_test_1.append(max_id)\n",
    "\n",
    "\n",
    "# print(y_test_1, y_pred, y_pred_1)\n",
    "# rounded_labels=np.argmax(y_test_1, axis=1)\n",
    "cf_matrix = confusion_matrix(y_test_1, y_pred_1)"
   ]
  },
  {
   "cell_type": "code",
   "execution_count": 56,
   "metadata": {
    "colab": {
     "base_uri": "https://localhost:8080/",
     "height": 488
    },
    "executionInfo": {
     "elapsed": 865,
     "status": "ok",
     "timestamp": 1714024845461,
     "user": {
      "displayName": "林奕安",
      "userId": "06087888647373566805"
     },
     "user_tz": -480
    },
    "id": "TLhXHbIVkjIS",
    "outputId": "32562154-3f95-4816-b668-67367cd15b92"
   },
   "outputs": [
    {
     "name": "stdout",
     "output_type": "stream",
     "text": [
      "測試損失: 0.46602320671081543, 測試準確度: 0.8228882551193237\n"
     ]
    },
    {
     "data": {
      "image/png": "[encoded data removed]",
      "text/plain": [
       "<Figure size 432x288 with 2 Axes>"
      ]
     },
     "metadata": {
      "needs_background": "light"
     },
     "output_type": "display_data"
    }
   ],
   "source": [
    "ax = sns.heatmap(cf_matrix, annot=True, cmap='Blues',fmt=\"d\")\n",
    "\n",
    "ax.set_title('Confusion Matrix')\n",
    "ax.set_xlabel('\\nPredicted Values')\n",
    "ax.set_ylabel('Actual Values ')\n",
    "\n",
    "## Ticket labels - List must be in alphabetical order\n",
    "ax.xaxis.set_ticklabels(['meat','drum', 'column'])\n",
    "ax.yaxis.set_ticklabels(['meat','drum', 'column'])\n",
    "\n",
    "print(f\"測試損失: {loss}, 測試準確度: {accuracy}\")\n",
    "\n",
    "## Display the visualization of the Confusion Matrix.\n",
    "plt.show()"
   ]
  },
  {
   "cell_type": "code",
   "execution_count": 43,
   "metadata": {},
   "outputs": [
    {
     "data": {
      "image/png": "[encoded data removed]",
      "text/plain": [
       "<Figure size 432x288 with 2 Axes>"
      ]
     },
     "metadata": {
      "needs_background": "light"
     },
     "output_type": "display_data"
    }
   ],
   "source": [
    "ax = sns.heatmap(cf_matrix, annot=True, cmap='Blues',fmt=\"d\")\n",
    "\n",
    "ax.set_title('Pineapple 2 types')\n",
    "ax.set_xlabel('\\nPredicted Values')\n",
    "ax.set_ylabel('Actual Values ')\n",
    "\n",
    "## Ticket labels - List must be in alphabetical order\n",
    "# ax.xaxis.set_ticklabels(['Meat','Column','Drum'])\n",
    "# ax.yaxis.set_ticklabels(['Meat','Column','Drum'])\n",
    "# ax.xaxis.set_ticklabels(['Meat','Column','Drum', 'Unidentified'])\n",
    "# ax.yaxis.set_ticklabels(['Meat','Column','Drum', 'Unidentified'])\n",
    "ax.xaxis.set_ticklabels(['Meat','Drum'])\n",
    "ax.yaxis.set_ticklabels(['Meat','Drum'])\n",
    "\n",
    "## Display the visualization of the Confusion Matrix.\n",
    "plt.show()"
   ]
  },
  {
   "cell_type": "markdown",
   "metadata": {},
   "source": [
    "### Save model"
   ]
  },
  {
   "cell_type": "code",
   "execution_count": 44,
   "metadata": {},
   "outputs": [],
   "source": [
    "# save model (h5)\n",
    "from tensorflow.keras.models import Sequential, save_model, load_model\n",
    "\n",
    "filepath = f\"./model/\"\n",
    "if not os.path.isdir(filepath):\n",
    "    os.makedirs(filepath)\n",
    "save_model(model, filepath + f\"{DATE}_{MODEL}_v{VERSION}\", save_format='h5')"
   ]
  },
  {
   "cell_type": "code",
   "execution_count": 45,
   "metadata": {},
   "outputs": [
    {
     "name": "stdout",
     "output_type": "stream",
     "text": [
      "INFO:tensorflow:Assets written to: ./model/pb/20240926_NN_v0.0.1/assets\n"
     ]
    },
    {
     "name": "stderr",
     "output_type": "stream",
     "text": [
      "INFO:tensorflow:Assets written to: ./model/pb/20240926_NN_v0.0.1/assets\n"
     ]
    }
   ],
   "source": [
    "# save model (pb)\n",
    "filepath = f\"./model/pb/{DATE}_{MODEL}_v{VERSION}\"\n",
    "if not os.path.isdir(filepath):\n",
    "    os.makedirs(filepath)\n",
    "model.save(filepath)"
   ]
  },
  {
   "cell_type": "code",
   "execution_count": 46,
   "metadata": {},
   "outputs": [
    {
     "name": "stderr",
     "output_type": "stream",
     "text": [
      "2024-09-26 21:39:15.559614: W tensorflow/compiler/mlir/lite/python/tf_tfl_flatbuffer_helpers.cc:351] Ignored output_format.\n",
      "2024-09-26 21:39:15.559635: W tensorflow/compiler/mlir/lite/python/tf_tfl_flatbuffer_helpers.cc:354] Ignored drop_control_dependency.\n",
      "2024-09-26 21:39:15.559639: W tensorflow/compiler/mlir/lite/python/tf_tfl_flatbuffer_helpers.cc:360] Ignored change_concat_input_ranges.\n",
      "2024-09-26 21:39:15.559729: I tensorflow/cc/saved_model/reader.cc:38] Reading SavedModel from: ./model/pb/20240926_NN_v0.0.1\n",
      "2024-09-26 21:39:15.561067: I tensorflow/cc/saved_model/reader.cc:90] Reading meta graph with tags { serve }\n",
      "2024-09-26 21:39:15.561076: I tensorflow/cc/saved_model/reader.cc:132] Reading SavedModel debug info (if present) from: ./model/pb/20240926_NN_v0.0.1\n",
      "2024-09-26 21:39:15.566099: I tensorflow/cc/saved_model/loader.cc:211] Restoring SavedModel bundle.\n",
      "2024-09-26 21:39:15.605301: I tensorflow/cc/saved_model/loader.cc:195] Running initialization op on SavedModel bundle at path: ./model/pb/20240926_NN_v0.0.1\n",
      "2024-09-26 21:39:15.611198: I tensorflow/cc/saved_model/loader.cc:283] SavedModel load for tags { serve }; Status: success: OK. Took 51470 microseconds.\n"
     ]
    },
    {
     "data": {
      "text/plain": [
       "9525728"
      ]
     },
     "execution_count": 46,
     "metadata": {},
     "output_type": "execute_result"
    }
   ],
   "source": [
    "# convert pb model to tflite model\n",
    "# saved_model_dir = '../../../model/20230325_auto/pb/20230325_VGG16_v2/'\n",
    "converter = tf.lite.TFLiteConverter.from_saved_model(filepath)\n",
    "converter.experimental_new_converter = True\n",
    "tflite_model = converter.convert()\n",
    "open(f\"./model/{DATE}_{MODEL}_v{VERSION}.tflite\", 'wb').write(tflite_model)\n",
    "# open(filepath + \".tflite\", 'wb').write(tflite_model)"
   ]
  },
  {
   "cell_type": "code",
   "execution_count": 47,
   "metadata": {},
   "outputs": [
    {
     "name": "stdout",
     "output_type": "stream",
     "text": [
      "[  1  18 513]\n",
      "[1 2]\n",
      "[[0.99843675 0.00156322]]\n"
     ]
    }
   ],
   "source": [
    "# Load the TFLite model and allocate tensors.\n",
    "interpreter = tf.lite.Interpreter(model_path=f\"./model/{DATE}_{MODEL}_v{VERSION}.tflite\")\n",
    "interpreter.allocate_tensors()\n",
    "\n",
    "# Get input and output tensors.\n",
    "input_details = interpreter.get_input_details()\n",
    "output_details = interpreter.get_output_details()\n",
    "print(input_details[0]['shape'])\n",
    "print(output_details[0]['shape'])\n",
    "\n",
    "# Test the model on random input data.\n",
    "input_shape = input_details[0]['shape']\n",
    "input_data = np.array(np.random.random_sample(input_shape), dtype=np.float32)\n",
    "interpreter.set_tensor(input_details[0]['index'], input_data)\n",
    "\n",
    "interpreter.invoke()\n",
    "\n",
    "# The function `get_tensor()` returns a copy of the tensor data.\n",
    "# Use `tensor()` in order to get a pointer to the tensor.\n",
    "output_data = interpreter.get_tensor(output_details[0]['index'])\n",
    "print(output_data)"
   ]
  },
  {
   "cell_type": "code",
   "execution_count": 30,
   "metadata": {},
   "outputs": [],
   "source": [
    "import onnx\n",
    "\n",
    "# 加载 ONNX 模型\n",
    "model = onnx.load(\"./pine1.onnx\")\n",
    "\n",
    "# 获取图的第一个输入节点\n",
    "model.graph.input[0].name = 'input_2:0'  # 将 input_1 改为 input_2\n",
    "\n",
    "# 保存修改后的 ONNX 模型\n",
    "onnx.save(model, \"./pine.onnx\")\n"
   ]
  },
  {
   "cell_type": "code",
   "execution_count": 43,
   "metadata": {},
   "outputs": [
    {
     "ename": "ValueError",
     "evalue": "The number of FixedLocator locations (2), usually from a call to set_ticks, does not match the number of ticklabels (3).",
     "output_type": "error",
     "traceback": [
      "\u001b[0;31m---------------------------------------------------------------------------\u001b[0m",
      "\u001b[0;31mValueError\u001b[0m                                Traceback (most recent call last)",
      "\u001b[0;32m/tmp/ipykernel_379324/215369682.py\u001b[0m in \u001b[0;36m<module>\u001b[0;34m\u001b[0m\n\u001b[1;32m     28\u001b[0m \u001b[0;34m\u001b[0m\u001b[0m\n\u001b[1;32m     29\u001b[0m \u001b[0;31m## Ticket labels - List must be in alphabetical order\u001b[0m\u001b[0;34m\u001b[0m\u001b[0;34m\u001b[0m\u001b[0m\n\u001b[0;32m---> 30\u001b[0;31m \u001b[0max\u001b[0m\u001b[0;34m.\u001b[0m\u001b[0mxaxis\u001b[0m\u001b[0;34m.\u001b[0m\u001b[0mset_ticklabels\u001b[0m\u001b[0;34m(\u001b[0m\u001b[0;34m[\u001b[0m\u001b[0;34m'Meat'\u001b[0m\u001b[0;34m,\u001b[0m \u001b[0;34m'Column'\u001b[0m\u001b[0;34m,\u001b[0m \u001b[0;34m'Drum'\u001b[0m\u001b[0;34m]\u001b[0m\u001b[0;34m)\u001b[0m\u001b[0;34m\u001b[0m\u001b[0;34m\u001b[0m\u001b[0m\n\u001b[0m\u001b[1;32m     31\u001b[0m \u001b[0max\u001b[0m\u001b[0;34m.\u001b[0m\u001b[0myaxis\u001b[0m\u001b[0;34m.\u001b[0m\u001b[0mset_ticklabels\u001b[0m\u001b[0;34m(\u001b[0m\u001b[0;34m[\u001b[0m\u001b[0;34m'Meat'\u001b[0m\u001b[0;34m,\u001b[0m \u001b[0;34m'Column'\u001b[0m\u001b[0;34m,\u001b[0m \u001b[0;34m'Drum'\u001b[0m\u001b[0;34m]\u001b[0m\u001b[0;34m)\u001b[0m\u001b[0;34m\u001b[0m\u001b[0;34m\u001b[0m\u001b[0m\n\u001b[1;32m     32\u001b[0m \u001b[0;34m\u001b[0m\u001b[0m\n",
      "\u001b[0;32m~/anaconda3/envs/seedenv/lib/python3.9/site-packages/matplotlib/axis.py\u001b[0m in \u001b[0;36mset_ticklabels\u001b[0;34m(self, ticklabels, minor, **kwargs)\u001b[0m\n\u001b[1;32m   1718\u001b[0m             \u001b[0;31m# remove all tick labels, so only error for > 0 ticklabels\u001b[0m\u001b[0;34m\u001b[0m\u001b[0;34m\u001b[0m\u001b[0m\n\u001b[1;32m   1719\u001b[0m             \u001b[0;32mif\u001b[0m \u001b[0mlen\u001b[0m\u001b[0;34m(\u001b[0m\u001b[0mlocator\u001b[0m\u001b[0;34m.\u001b[0m\u001b[0mlocs\u001b[0m\u001b[0;34m)\u001b[0m \u001b[0;34m!=\u001b[0m \u001b[0mlen\u001b[0m\u001b[0;34m(\u001b[0m\u001b[0mticklabels\u001b[0m\u001b[0;34m)\u001b[0m \u001b[0;32mand\u001b[0m \u001b[0mlen\u001b[0m\u001b[0;34m(\u001b[0m\u001b[0mticklabels\u001b[0m\u001b[0;34m)\u001b[0m \u001b[0;34m!=\u001b[0m \u001b[0;36m0\u001b[0m\u001b[0;34m:\u001b[0m\u001b[0;34m\u001b[0m\u001b[0;34m\u001b[0m\u001b[0m\n\u001b[0;32m-> 1720\u001b[0;31m                 raise ValueError(\n\u001b[0m\u001b[1;32m   1721\u001b[0m                     \u001b[0;34m\"The number of FixedLocator locations\"\u001b[0m\u001b[0;34m\u001b[0m\u001b[0;34m\u001b[0m\u001b[0m\n\u001b[1;32m   1722\u001b[0m                     \u001b[0;34mf\" ({len(locator.locs)}), usually from a call to\"\u001b[0m\u001b[0;34m\u001b[0m\u001b[0;34m\u001b[0m\u001b[0m\n",
      "\u001b[0;31mValueError\u001b[0m: The number of FixedLocator locations (2), usually from a call to set_ticks, does not match the number of ticklabels (3)."
     ]
    },
    {
     "data": {
      "image/png": "[encoded data removed]",
      "text/plain": [
       "<Figure size 432x288 with 2 Axes>"
      ]
     },
     "metadata": {
      "needs_background": "light"
     },
     "output_type": "display_data"
    }
   ],
   "source": [
    "from sklearn.metrics import confusion_matrix, precision_score, recall_score, f1_score\n",
    "\n",
    "y_pred = []\n",
    "num = 0\n",
    "for data in X_test:\n",
    "    data = np.float32(data)\n",
    "    interpreter.set_tensor(input_details[0]['index'], [data])\n",
    "    interpreter.invoke()\n",
    "    output_data = interpreter.get_tensor(output_details[0]['index'])\n",
    "    num += 1\n",
    "    if output_data[0][0] >= 0.7:\n",
    "        y_pred.append(1)\n",
    "    else:\n",
    "        y_pred.append(0)\n",
    "    #print(y_pred)\n",
    "\n",
    "\n",
    "\n",
    "cf_matrix = confusion_matrix(y_test_1, y_pred)\n",
    "\n",
    "import seaborn as sns\n",
    "\n",
    "ax = sns.heatmap(cf_matrix, annot=True, cmap='Blues',fmt=\"d\")\n",
    "\n",
    "ax.set_title('Confusion Matrix')\n",
    "ax.set_xlabel('\\nPredicted Values')\n",
    "ax.set_ylabel('Actual Values ')\n",
    "\n",
    "## Ticket labels - List must be in alphabetical order\n",
    "ax.xaxis.set_ticklabels(['Meat', 'Column', 'Drum'])\n",
    "ax.yaxis.set_ticklabels(['Meat', 'Column', 'Drum'])\n",
    "\n",
    "## Display the visualization of the Confusion Matrix.\n",
    "plt.show()"
   ]
  },
  {
   "cell_type": "code",
   "execution_count": 8,
   "metadata": {},
   "outputs": [
    {
     "name": "stdout",
     "output_type": "stream",
     "text": [
      "/bin/bash: pip: command not found\r\n"
     ]
    }
   ],
   "source": [
    "!pip install pydot graphviz\n"
   ]
  },
  {
   "cell_type": "code",
   "execution_count": 7,
   "metadata": {},
   "outputs": [
    {
     "ename": "ImportError",
     "evalue": "cannot import name 'plot_model' from 'keras.utils' (/home/hsnl-iot/anaconda3/envs/seedenv/lib/python3.9/site-packages/keras/utils/__init__.py)",
     "output_type": "error",
     "traceback": [
      "\u001b[0;31m---------------------------------------------------------------------------\u001b[0m",
      "\u001b[0;31mImportError\u001b[0m                               Traceback (most recent call last)",
      "\u001b[0;32m/tmp/ipykernel_1927888/443937777.py\u001b[0m in \u001b[0;36m<module>\u001b[0;34m\u001b[0m\n\u001b[1;32m      1\u001b[0m \u001b[0;32mfrom\u001b[0m \u001b[0mkeras\u001b[0m\u001b[0;34m.\u001b[0m\u001b[0mmodels\u001b[0m \u001b[0;32mimport\u001b[0m \u001b[0mSequential\u001b[0m\u001b[0;34m\u001b[0m\u001b[0;34m\u001b[0m\u001b[0m\n\u001b[1;32m      2\u001b[0m \u001b[0;32mfrom\u001b[0m \u001b[0mkeras\u001b[0m\u001b[0;34m.\u001b[0m\u001b[0mlayers\u001b[0m \u001b[0;32mimport\u001b[0m \u001b[0mInput\u001b[0m\u001b[0;34m,\u001b[0m \u001b[0mFlatten\u001b[0m\u001b[0;34m,\u001b[0m \u001b[0mDense\u001b[0m\u001b[0;34m,\u001b[0m \u001b[0mBatchNormalization\u001b[0m\u001b[0;34m,\u001b[0m \u001b[0mDropout\u001b[0m\u001b[0;34m\u001b[0m\u001b[0;34m\u001b[0m\u001b[0m\n\u001b[0;32m----> 3\u001b[0;31m \u001b[0;32mfrom\u001b[0m \u001b[0mkeras\u001b[0m\u001b[0;34m.\u001b[0m\u001b[0mutils\u001b[0m \u001b[0;32mimport\u001b[0m \u001b[0mplot_model\u001b[0m\u001b[0;34m\u001b[0m\u001b[0;34m\u001b[0m\u001b[0m\n\u001b[0m\u001b[1;32m      4\u001b[0m \u001b[0;32mimport\u001b[0m \u001b[0mmatplotlib\u001b[0m\u001b[0;34m.\u001b[0m\u001b[0mpyplot\u001b[0m \u001b[0;32mas\u001b[0m \u001b[0mplt\u001b[0m\u001b[0;34m\u001b[0m\u001b[0;34m\u001b[0m\u001b[0m\n\u001b[1;32m      5\u001b[0m \u001b[0;34m\u001b[0m\u001b[0m\n",
      "\u001b[0;31mImportError\u001b[0m: cannot import name 'plot_model' from 'keras.utils' (/home/hsnl-iot/anaconda3/envs/seedenv/lib/python3.9/site-packages/keras/utils/__init__.py)"
     ]
    }
   ],
   "source": [
    "from keras.models import Sequential\n",
    "from keras.layers import Input, Flatten, Dense, BatchNormalization, Dropout\n",
    "from keras.utils import plot_model\n",
    "import matplotlib.pyplot as plt\n",
    "\n",
    "# Define the model\n",
    "model = Sequential([\n",
    "    Input(shape=(100, 10), name='input_2'),  # Replace (100, 10) with your input shape\n",
    "    Flatten(),\n",
    "    Dense(256, activation='relu'),\n",
    "    BatchNormalization(),\n",
    "    Dropout(0.2),\n",
    "    Dense(64, activation='relu'),\n",
    "    BatchNormalization(),\n",
    "    Dropout(0.2),\n",
    "    Dense(10, activation='softmax')  # Replace 10 with the number of classes in your problem\n",
    "])\n",
    "\n",
    "# Plot the model architecture\n",
    "plot_model(model, show_shapes=True, show_layer_names=True)\n",
    "plt.show()\n"
   ]
  },
  {
   "cell_type": "code",
   "execution_count": null,
   "metadata": {},
   "outputs": [],
   "source": []
  },
  {
   "cell_type": "code",
   "execution_count": null,
   "metadata": {},
   "outputs": [],
   "source": []
  },
  {
   "cell_type": "code",
   "execution_count": null,
   "metadata": {},
   "outputs": [],
   "source": []
  }
 ],
 "metadata": {
  "colab": {
   "authorship_tag": "ABX9TyOrpBplfLB7Q+amquIbhAFr",
   "provenance": []
  },
  "kernelspec": {
   "display_name": "seedenv",
   "language": "python",
   "name": "seedenv"
  },
  "language_info": {
   "codemirror_mode": {
    "name": "ipython",
    "version": 3
   },
   "file_extension": ".py",
   "mimetype": "text/x-python",
   "name": "python",
   "nbconvert_exporter": "python",
   "pygments_lexer": "ipython3",
   "version": "3.9.7"
  }
 },
 "nbformat": 4,
 "nbformat_minor": 1
}

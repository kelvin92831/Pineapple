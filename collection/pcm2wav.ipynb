{
 "cells": [
  {
   "cell_type": "code",
   "execution_count": 15,
   "id": "71ef59c7",
   "metadata": {},
   "outputs": [],
   "source": [
    "import librosa\n",
    "import librosa.display\n",
    "import soundfile as sf\n",
    "from scipy.io import wavfile as wav\n",
    "import os\n",
    "import pandas as pd\n",
    "from matplotlib import pyplot as plt\n",
    "import glob \n",
    "from pathlib import Path\n",
    "import numpy as np\n",
    "import soundfile as sf\n",
    "import shutil\n",
    "from sklearn.preprocessing import minmax_scale\n",
    "import sys\n",
    "import wave"
   ]
  },
  {
   "cell_type": "code",
   "execution_count": 16,
   "id": "791ae31b",
   "metadata": {},
   "outputs": [],
   "source": [
    "input_path = \"./data/cup_origin/\"\n",
    "output_path = \"./data/cup/\"\n",
    "item_types = [\"small_glass/\", \"large_glass/\"]\n",
    "os.system(\"rm -rf \" + output_path)\n",
    "\n",
    "for item in item_types:\n",
    "    path = input_path + item\n",
    "    savePath = output_path + item\n",
    "    if not os.path.exists(savePath):\n",
    "        os.makedirs(savePath)\n",
    "    files = Path(path).glob('**/*.pcm')\n",
    "    for file in files:\n",
    "        tmp = str(os.path.splitext(file)[0]) + '.wav'\n",
    "        head, tail = os.path.split(tmp)\n",
    "        if not os.path.isdir(file):\n",
    "            with open(file, 'rb') as pcmfile:\n",
    "                pcmdata = pcmfile.read()\n",
    "            with wave.open(savePath + tail, 'wb') as wavfile:\n",
    "                wavfile.setparams((1, 2, 22050, 0, 'NONE', 'NONE'))\n",
    "                wavfile.writeframes(pcmdata)"
   ]
  },
  {
   "cell_type": "code",
   "execution_count": null,
   "id": "d04eff6f",
   "metadata": {},
   "outputs": [],
   "source": [
    "# getPath = \"../data_origin/20240511_phone/\"\n",
    "# savePath = \"./data/stickData/\"\n",
    "# pineTypes = [\"meat/\", \"column/\", \"drum/\"]\n",
    "# os.system(\"rm -rf \" + savePath)\n",
    "\n",
    "# for pineType in pineTypes:\n",
    "#     DataNum = 0\n",
    "#     # 開啟目標資料夾\n",
    "#     path = getPath + pineType\n",
    "#     saveFilePath = savePath + pineType\n",
    "#     if not os.path.exists(saveFilePath):\n",
    "#         os.makedirs(saveFilePath)\n",
    "#     files= Path(path).glob('**/*.wav')\n",
    "#     for file in files:"
   ]
  }
 ],
 "metadata": {
  "kernelspec": {
   "display_name": "seedenv",
   "language": "python",
   "name": "seedenv"
  },
  "language_info": {
   "codemirror_mode": {
    "name": "ipython",
    "version": 3
   },
   "file_extension": ".py",
   "mimetype": "text/x-python",
   "name": "python",
   "nbconvert_exporter": "python",
   "pygments_lexer": "ipython3",
   "version": "3.9.7"
  }
 },
 "nbformat": 4,
 "nbformat_minor": 5
}
